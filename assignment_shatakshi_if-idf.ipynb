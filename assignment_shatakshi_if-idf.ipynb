{
  "nbformat": 4,
  "nbformat_minor": 0,
  "metadata": {
    "colab": {
      "name": "Untitled9.ipynb",
      "provenance": [],
      "collapsed_sections": []
    },
    "kernelspec": {
      "name": "python3",
      "display_name": "Python 3"
    }
  },
  "cells": [
    {
      "cell_type": "markdown",
      "metadata": {
        "id": "YLinskMg9kO3"
      },
      "source": [
        " **ASSIGNMENT tf-idf**"
      ]
    },
    {
      "cell_type": "markdown",
      "metadata": {
        "id": "M4aqQzTN9o9c"
      },
      "source": [
        "Find the tf-idf score of any two documents using python."
      ]
    },
    {
      "cell_type": "code",
      "metadata": {
        "id": "g9eYHfvej1Yu"
      },
      "source": [
        "docA = \"The cat sat on my face\"\n",
        "docB = \"The dog sat on my bed\""
      ],
      "execution_count": 1,
      "outputs": []
    },
    {
      "cell_type": "code",
      "metadata": {
        "id": "povPN0bHs51v"
      },
      "source": [
        "bowA = docA.split(\" \")\n",
        "bowB = docB.split(\" \")"
      ],
      "execution_count": 2,
      "outputs": []
    },
    {
      "cell_type": "code",
      "metadata": {
        "id": "SLh8mdKus_r9",
        "outputId": "791b1505-468a-41e4-9133-e0ed8ed42de5",
        "colab": {
          "base_uri": "https://localhost:8080/"
        }
      },
      "source": [
        "bowB"
      ],
      "execution_count": 3,
      "outputs": [
        {
          "output_type": "execute_result",
          "data": {
            "text/plain": [
              "['The', 'dog', 'sat', 'on', 'my', 'bed']"
            ]
          },
          "metadata": {
            "tags": []
          },
          "execution_count": 3
        }
      ]
    },
    {
      "cell_type": "code",
      "metadata": {
        "id": "ClLXmLe5tIoI"
      },
      "source": [
        "wordSet = set(bowA).union(set(bowB))"
      ],
      "execution_count": 4,
      "outputs": []
    },
    {
      "cell_type": "code",
      "metadata": {
        "id": "sPPhd8WXtL-g",
        "outputId": "0d13e419-123a-4363-b7d4-a0bbd7d65181",
        "colab": {
          "base_uri": "https://localhost:8080/"
        }
      },
      "source": [
        "wordSet"
      ],
      "execution_count": 5,
      "outputs": [
        {
          "output_type": "execute_result",
          "data": {
            "text/plain": [
              "{'The', 'bed', 'cat', 'dog', 'face', 'my', 'on', 'sat'}"
            ]
          },
          "metadata": {
            "tags": []
          },
          "execution_count": 5
        }
      ]
    },
    {
      "cell_type": "code",
      "metadata": {
        "id": "htrjPyxstQG4"
      },
      "source": [
        "wordDictA = dict.fromkeys(wordSet, 0) \n",
        "wordDictB = dict.fromkeys(wordSet, 0)"
      ],
      "execution_count": 6,
      "outputs": []
    },
    {
      "cell_type": "code",
      "metadata": {
        "id": "cc4LwBrFtXeU",
        "outputId": "ee10263f-8ce0-49c0-b463-6960ab24546c",
        "colab": {
          "base_uri": "https://localhost:8080/"
        }
      },
      "source": [
        "wordDictA"
      ],
      "execution_count": 7,
      "outputs": [
        {
          "output_type": "execute_result",
          "data": {
            "text/plain": [
              "{'The': 0, 'bed': 0, 'cat': 0, 'dog': 0, 'face': 0, 'my': 0, 'on': 0, 'sat': 0}"
            ]
          },
          "metadata": {
            "tags": []
          },
          "execution_count": 7
        }
      ]
    },
    {
      "cell_type": "code",
      "metadata": {
        "id": "mdHtiO0jtbEI"
      },
      "source": [
        "for word in bowA:\n",
        "    wordDictA[word]+=1\n",
        "    \n",
        "for word in bowB:\n",
        "    wordDictB[word]+=1"
      ],
      "execution_count": 8,
      "outputs": []
    },
    {
      "cell_type": "code",
      "metadata": {
        "id": "5c_cWY4otiLA",
        "outputId": "028df73a-1acd-4cf8-b7d7-ed149512b75c",
        "colab": {
          "base_uri": "https://localhost:8080/"
        }
      },
      "source": [
        "wordDictA"
      ],
      "execution_count": 9,
      "outputs": [
        {
          "output_type": "execute_result",
          "data": {
            "text/plain": [
              "{'The': 1, 'bed': 0, 'cat': 1, 'dog': 0, 'face': 1, 'my': 1, 'on': 1, 'sat': 1}"
            ]
          },
          "metadata": {
            "tags": []
          },
          "execution_count": 9
        }
      ]
    },
    {
      "cell_type": "code",
      "metadata": {
        "id": "WIeKHQLBtmSc",
        "outputId": "9cc4c010-058c-443a-ff0a-a77b3922e1a3",
        "colab": {
          "base_uri": "https://localhost:8080/",
          "height": 106
        }
      },
      "source": [
        "import pandas as pd\n",
        "pd.DataFrame([wordDictA, wordDictB])"
      ],
      "execution_count": 10,
      "outputs": [
        {
          "output_type": "execute_result",
          "data": {
            "text/html": [
              "<div>\n",
              "<style scoped>\n",
              "    .dataframe tbody tr th:only-of-type {\n",
              "        vertical-align: middle;\n",
              "    }\n",
              "\n",
              "    .dataframe tbody tr th {\n",
              "        vertical-align: top;\n",
              "    }\n",
              "\n",
              "    .dataframe thead th {\n",
              "        text-align: right;\n",
              "    }\n",
              "</style>\n",
              "<table border=\"1\" class=\"dataframe\">\n",
              "  <thead>\n",
              "    <tr style=\"text-align: right;\">\n",
              "      <th></th>\n",
              "      <th>dog</th>\n",
              "      <th>face</th>\n",
              "      <th>cat</th>\n",
              "      <th>The</th>\n",
              "      <th>sat</th>\n",
              "      <th>my</th>\n",
              "      <th>on</th>\n",
              "      <th>bed</th>\n",
              "    </tr>\n",
              "  </thead>\n",
              "  <tbody>\n",
              "    <tr>\n",
              "      <th>0</th>\n",
              "      <td>0</td>\n",
              "      <td>1</td>\n",
              "      <td>1</td>\n",
              "      <td>1</td>\n",
              "      <td>1</td>\n",
              "      <td>1</td>\n",
              "      <td>1</td>\n",
              "      <td>0</td>\n",
              "    </tr>\n",
              "    <tr>\n",
              "      <th>1</th>\n",
              "      <td>1</td>\n",
              "      <td>0</td>\n",
              "      <td>0</td>\n",
              "      <td>1</td>\n",
              "      <td>1</td>\n",
              "      <td>1</td>\n",
              "      <td>1</td>\n",
              "      <td>1</td>\n",
              "    </tr>\n",
              "  </tbody>\n",
              "</table>\n",
              "</div>"
            ],
            "text/plain": [
              "   dog  face  cat  The  sat  my  on  bed\n",
              "0    0     1    1    1    1   1   1    0\n",
              "1    1     0    0    1    1   1   1    1"
            ]
          },
          "metadata": {
            "tags": []
          },
          "execution_count": 10
        }
      ]
    },
    {
      "cell_type": "code",
      "metadata": {
        "id": "Q4sojNsOtrfz"
      },
      "source": [
        "def computeTF(wordDict, bow):\n",
        "    tfDict = {}\n",
        "    bowCount = len(bow)\n",
        "    for word, count in wordDict.items():\n",
        "        tfDict[word] = count/float(bowCount)\n",
        "    return tfDict"
      ],
      "execution_count": 11,
      "outputs": []
    },
    {
      "cell_type": "code",
      "metadata": {
        "id": "3A2CiktKtvMP"
      },
      "source": [
        "tfBowA = computeTF(wordDictA, bowA)\n",
        "tfBowB = computeTF(wordDictB, bowB)"
      ],
      "execution_count": 12,
      "outputs": []
    },
    {
      "cell_type": "code",
      "metadata": {
        "id": "wSMYkrvotyn4",
        "outputId": "339a5d6d-ad6d-42e3-c32e-f9a28c3f9cda",
        "colab": {
          "base_uri": "https://localhost:8080/"
        }
      },
      "source": [
        "tfBowA"
      ],
      "execution_count": 13,
      "outputs": [
        {
          "output_type": "execute_result",
          "data": {
            "text/plain": [
              "{'The': 0.16666666666666666,\n",
              " 'bed': 0.0,\n",
              " 'cat': 0.16666666666666666,\n",
              " 'dog': 0.0,\n",
              " 'face': 0.16666666666666666,\n",
              " 'my': 0.16666666666666666,\n",
              " 'on': 0.16666666666666666,\n",
              " 'sat': 0.16666666666666666}"
            ]
          },
          "metadata": {
            "tags": []
          },
          "execution_count": 13
        }
      ]
    },
    {
      "cell_type": "code",
      "metadata": {
        "id": "5a76iHr-t2Po",
        "outputId": "5c99d115-04a0-4c26-811a-bc51e6e77ebb",
        "colab": {
          "base_uri": "https://localhost:8080/"
        }
      },
      "source": [
        "tfBowB"
      ],
      "execution_count": 14,
      "outputs": [
        {
          "output_type": "execute_result",
          "data": {
            "text/plain": [
              "{'The': 0.16666666666666666,\n",
              " 'bed': 0.16666666666666666,\n",
              " 'cat': 0.0,\n",
              " 'dog': 0.16666666666666666,\n",
              " 'face': 0.0,\n",
              " 'my': 0.16666666666666666,\n",
              " 'on': 0.16666666666666666,\n",
              " 'sat': 0.16666666666666666}"
            ]
          },
          "metadata": {
            "tags": []
          },
          "execution_count": 14
        }
      ]
    },
    {
      "cell_type": "code",
      "metadata": {
        "id": "aQjrC8nyt_WQ"
      },
      "source": [
        "def computeIDF(docList):\n",
        "    import math\n",
        "    idfDict = {}\n",
        "    N = len(docList)\n",
        "    \n",
        "    idfDict = dict.fromkeys(docList[0].keys(), 0)\n",
        "    for doc in docList:\n",
        "        for word, val in doc.items():\n",
        "            if val > 0:\n",
        "                idfDict[word] += 1\n",
        "    \n",
        "    for word, val in idfDict.items():\n",
        "        idfDict[word] = math.log10(N / float(val))\n",
        "        \n",
        "    return idfDict"
      ],
      "execution_count": 15,
      "outputs": []
    },
    {
      "cell_type": "code",
      "metadata": {
        "id": "Hz5H4DwtuDJ0"
      },
      "source": [
        "idfs = computeIDF([wordDictA, wordDictB])"
      ],
      "execution_count": 16,
      "outputs": []
    },
    {
      "cell_type": "code",
      "metadata": {
        "id": "TjMGDh_vuHsT"
      },
      "source": [
        "def computeTFIDF(tfBow, idfs):\n",
        "    tfidf = {}\n",
        "    for word, val in tfBow.items():\n",
        "        tfidf[word] = val*idfs[word]\n",
        "    return tfidf"
      ],
      "execution_count": 17,
      "outputs": []
    },
    {
      "cell_type": "code",
      "metadata": {
        "id": "lAnDKslYuLL_"
      },
      "source": [
        "tfidfBowA = computeTFIDF(tfBowA, idfs)\n",
        "tfidfBowB = computeTFIDF(tfBowB, idfs)"
      ],
      "execution_count": 18,
      "outputs": []
    },
    {
      "cell_type": "code",
      "metadata": {
        "id": "DkAHxWh3uOp3",
        "outputId": "8353422d-d644-4440-f3d4-6d9e44134905",
        "colab": {
          "base_uri": "https://localhost:8080/",
          "height": 106
        }
      },
      "source": [
        "import pandas as pd\n",
        "pd.DataFrame([tfidfBowA, tfidfBowB])"
      ],
      "execution_count": 19,
      "outputs": [
        {
          "output_type": "execute_result",
          "data": {
            "text/html": [
              "<div>\n",
              "<style scoped>\n",
              "    .dataframe tbody tr th:only-of-type {\n",
              "        vertical-align: middle;\n",
              "    }\n",
              "\n",
              "    .dataframe tbody tr th {\n",
              "        vertical-align: top;\n",
              "    }\n",
              "\n",
              "    .dataframe thead th {\n",
              "        text-align: right;\n",
              "    }\n",
              "</style>\n",
              "<table border=\"1\" class=\"dataframe\">\n",
              "  <thead>\n",
              "    <tr style=\"text-align: right;\">\n",
              "      <th></th>\n",
              "      <th>dog</th>\n",
              "      <th>face</th>\n",
              "      <th>cat</th>\n",
              "      <th>The</th>\n",
              "      <th>sat</th>\n",
              "      <th>my</th>\n",
              "      <th>on</th>\n",
              "      <th>bed</th>\n",
              "    </tr>\n",
              "  </thead>\n",
              "  <tbody>\n",
              "    <tr>\n",
              "      <th>0</th>\n",
              "      <td>0.000000</td>\n",
              "      <td>0.050172</td>\n",
              "      <td>0.050172</td>\n",
              "      <td>0.0</td>\n",
              "      <td>0.0</td>\n",
              "      <td>0.0</td>\n",
              "      <td>0.0</td>\n",
              "      <td>0.000000</td>\n",
              "    </tr>\n",
              "    <tr>\n",
              "      <th>1</th>\n",
              "      <td>0.050172</td>\n",
              "      <td>0.000000</td>\n",
              "      <td>0.000000</td>\n",
              "      <td>0.0</td>\n",
              "      <td>0.0</td>\n",
              "      <td>0.0</td>\n",
              "      <td>0.0</td>\n",
              "      <td>0.050172</td>\n",
              "    </tr>\n",
              "  </tbody>\n",
              "</table>\n",
              "</div>"
            ],
            "text/plain": [
              "        dog      face       cat  The  sat   my   on       bed\n",
              "0  0.000000  0.050172  0.050172  0.0  0.0  0.0  0.0  0.000000\n",
              "1  0.050172  0.000000  0.000000  0.0  0.0  0.0  0.0  0.050172"
            ]
          },
          "metadata": {
            "tags": []
          },
          "execution_count": 19
        }
      ]
    },
    {
      "cell_type": "code",
      "metadata": {
        "id": "2p63YltbuXCV"
      },
      "source": [
        ""
      ],
      "execution_count": null,
      "outputs": []
    }
  ]
}